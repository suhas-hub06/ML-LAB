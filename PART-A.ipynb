{
 "cells": [
  {
   "cell_type": "code",
   "execution_count": 1,
   "metadata": {},
   "outputs": [
    {
     "name": "stdout",
     "output_type": "stream",
     "text": [
      "Hello World\n"
     ]
    }
   ],
   "source": [
    "print(\"Hello World\")"
   ]
  },
  {
   "cell_type": "code",
   "execution_count": 10,
   "metadata": {},
   "outputs": [
    {
     "name": "stdout",
     "output_type": "stream",
     "text": [
      "enter a number2\n",
      "enter another number3\n",
      "sum is 5\n"
     ]
    }
   ],
   "source": [
    "#sum of two numbers\n",
    "a=int(input(\"enter a number\"))\n",
    "b=int(input(\"enter another number\"))\n",
    "c=a+b\n",
    "print(\"sum is\",c)"
   ]
  },
  {
   "cell_type": "code",
   "execution_count": 11,
   "metadata": {},
   "outputs": [
    {
     "name": "stdout",
     "output_type": "stream",
     "text": [
      "enter a number4\n",
      "enter second number6\n",
      "after swapping a is 6\n",
      "after swapping b is 4\n"
     ]
    }
   ],
   "source": [
    "#swapping two numbers\n",
    "a=int(input(\"enter a number\"))\n",
    "b=int(input(\"enter second number\"))\n",
    "temp=a\n",
    "a=b\n",
    "b=temp\n",
    "print(\"after swapping a is\",a)\n",
    "print(\"after swapping b is\",b)"
   ]
  },
  {
   "cell_type": "code",
   "execution_count": 12,
   "metadata": {},
   "outputs": [
    {
     "name": "stdout",
     "output_type": "stream",
     "text": [
      "enter the size2\n",
      "1\n",
      "enter the value to be searched2\n",
      "Element not found\n"
     ]
    }
   ],
   "source": [
    "#binary search\n",
    "def bsearch(arr,key):\n",
    "    l=0\n",
    "    h=len(arr)-1\n",
    "    while(l<=h):\n",
    "        mid=(l+h)//2\n",
    "        if(arr[mid]==key):\n",
    "            return mid\n",
    "        elif(key>arr[mid]):\n",
    "            l=mid+1\n",
    "        else:\n",
    "            h=mid-1\n",
    "    return -1\n",
    "\n",
    "n=int(input(\"enter the size\"))\n",
    "li=list(map(int,input().split()))\n",
    "key=int(input(\"enter the value to be searched\"))\n",
    "pos=bsearch(li,key)\n",
    "if(pos==-1):\n",
    "    print(\"Element not found\")\n",
    "else:\n",
    "    print(\"Element found at position\",pos+1)\n",
    "            "
   ]
  },
  {
   "cell_type": "code",
   "execution_count": null,
   "metadata": {},
   "outputs": [],
   "source": [
    "#linear search\n",
    "def search(arr,key):\n",
    "    i=0\n",
    "    n=len(arr)\n",
    "    while(i<n):\n",
    "        if(arr[i]==key):\n",
    "            return i\n",
    "        i+=1\n",
    "    return -1\n",
    "    \n",
    "n=int(input(\"enter the size\"))\n",
    "li=list(map(int,input().spit()))\n",
    "key=int(input(\"enter the value to be searched\"))\n",
    "pos=search(li,key)\n",
    "if(pos==-1):\n",
    "    print(\"Element not found\")\n",
    "else:\n",
    "    print(\"Element found at position\",pos+1)"
   ]
  },
  {
   "cell_type": "code",
   "execution_count": 14,
   "metadata": {},
   "outputs": [
    {
     "name": "stdout",
     "output_type": "stream",
     "text": [
      "Mean is:4.0\n"
     ]
    }
   ],
   "source": [
    "x=[1,2,3,4,5,6,7]\n",
    "n = len(x)\n",
    "\n",
    "get_sum = sum(x)\n",
    "mean = get_sum / n\n",
    "\n",
    "print(\"Mean is:\" + str(mean))"
   ]
  },
  {
   "cell_type": "code",
   "execution_count": 10,
   "metadata": {},
   "outputs": [
    {
     "name": "stdout",
     "output_type": "stream",
     "text": [
      "[1, 2, 3, 4, 5, 6]\n",
      "Median is: 3.5\n"
     ]
    }
   ],
   "source": [
    "num_list = [2,3,4,5,6,1]\n",
    "\n",
    "num_list.sort()\n",
    "\n",
    "if len(num_list) % 2 == 0:\n",
    "   first_median = num_list[len(num_list) // 2]\n",
    "   second_median = num_list[len(num_list) // 2 - 1]\n",
    "   median = (first_median + second_median) / 2\n",
    "else:\n",
    "   median = num_list[len(num_list) // 2]\n",
    "print(num_list)\n",
    "print(\"Median is: \" + str(median))"
   ]
  },
  {
   "cell_type": "code",
   "execution_count": 11,
   "metadata": {},
   "outputs": [
    {
     "name": "stdout",
     "output_type": "stream",
     "text": [
      "[1, 2, 3, 4, 5, 6, 6]\n",
      "{1: 1, 2: 1, 3: 1, 4: 1, 5: 1, 6: 2}\n",
      "The Mode of the list is : 6\n"
     ]
    }
   ],
   "source": [
    "import collections\n",
    "num_list = [1,2,3,4,5,6,6]\n",
    "print(num_list)\n",
    "data = collections.Counter(num_list)\n",
    "data_list = dict(data)\n",
    "\n",
    "\n",
    "print(data_list)\n",
    "\n",
    "\n",
    "max_value = max(list(data.values()))\n",
    "mode_val = [num for num, freq in data_list.items() if freq == max_value]\n",
    "if len(mode_val) == len(num_list):\n",
    "   print(\"No mode in the list\")\n",
    "else:\n",
    "   print(\"The Mode of the list is : \" + ', '.join(map(str, mode_val)))"
   ]
  },
  {
   "cell_type": "code",
   "execution_count": 12,
   "metadata": {},
   "outputs": [
    {
     "name": "stdout",
     "output_type": "stream",
     "text": [
      "5.25\n"
     ]
    }
   ],
   "source": [
    "def variance(val):\n",
    "    numb = len(val)\n",
    "    \n",
    "    m = sum(val) / numb\n",
    "    \n",
    "    devi = [(x - m) ** 2 for x in val]\n",
    "    \n",
    "    variance = sum(devi) / numb\n",
    "    \n",
    "    return variance\n",
    "\n",
    "print(variance([1,2,3,4,5,6,7,8]))"
   ]
  },
  {
   "cell_type": "code",
   "execution_count": 13,
   "metadata": {},
   "outputs": [
    {
     "name": "stdout",
     "output_type": "stream",
     "text": [
      "(0.5923234814202818+0.5923234814202818j)\n"
     ]
    }
   ],
   "source": [
    "def sd(val):\n",
    "    numb = len(val)\n",
    "    \n",
    "    m = sum(val) / numb\n",
    "    \n",
    "    \n",
    "    dev=[(x - m) **0.5 for x in val]\n",
    "\n",
    "    sd=sum(dev) / numb\n",
    "    return sd\n",
    "    \n",
    "\n",
    "print(sd([1,2,3,4,5,6,7]))"
   ]
  },
  {
   "cell_type": "code",
   "execution_count": 14,
   "metadata": {},
   "outputs": [
    {
     "name": "stdout",
     "output_type": "stream",
     "text": [
      "[0.0, 0.16666666666666666, 0.3333333333333333, 0.5, 0.6666666666666666, 0.8333333333333334, 1.0]\n"
     ]
    }
   ],
   "source": [
    "def norm(x):\n",
    "    mini=min(x)\n",
    "    maxi=max(x)\n",
    "    norm=[]\n",
    "    for i in x:\n",
    "          norm.append((i-mini)/(maxi-mini))\n",
    "    return norm\n",
    "print(norm(x))"
   ]
  },
  {
   "cell_type": "code",
   "execution_count": 9,
   "metadata": {},
   "outputs": [
    {
     "name": "stdout",
     "output_type": "stream",
     "text": [
      "\n",
      "Iteration  1\n",
      "Centroid 0 [6.26, 3.72]\n",
      "Centroid 1 [12.1, 7.9]\n",
      "Centroid 2 [9.7, 4.45]\n",
      "Point:  0 Cluster: 0\n",
      "Point:  1 Cluster: 0\n",
      "Point:  2 Cluster: 2\n",
      "Point:  3 Cluster: 0\n",
      "Point:  4 Cluster: 1\n",
      "Point:  5 Cluster: 0\n",
      "Point:  6 Cluster: 0\n",
      "Point:  7 Cluster: 2\n",
      "\n",
      "Iteration  2\n",
      "Centroid 0 [6.22, 3.6525]\n",
      "Centroid 1 [12.1, 7.9]\n",
      "Centroid 2 [9.7, 4.45]\n",
      "Point:  0 Cluster: 0\n",
      "Point:  1 Cluster: 0\n",
      "Point:  2 Cluster: 0\n",
      "Point:  3 Cluster: 0\n",
      "Point:  4 Cluster: 0\n",
      "Point:  5 Cluster: 0\n",
      "Point:  6 Cluster: 0\n",
      "Point:  7 Cluster: 0\n",
      "\n",
      "Iteration  3\n",
      "Centroid 0 [6.215, 3.6441]\n",
      "Centroid 1 [12.1, 7.9]\n",
      "Centroid 2 [9.7, 4.45]\n",
      "Point:  0 Cluster: 0\n",
      "Point:  1 Cluster: 0\n",
      "Point:  2 Cluster: 0\n",
      "Point:  3 Cluster: 0\n",
      "Point:  4 Cluster: 0\n",
      "Point:  5 Cluster: 0\n",
      "Point:  6 Cluster: 0\n",
      "Point:  7 Cluster: 0\n",
      "\n",
      "Iteration  4\n",
      "Centroid 0 [6.2144, 3.643]\n",
      "Centroid 1 [12.1, 7.9]\n",
      "Centroid 2 [9.7, 4.45]\n",
      "Point:  0 Cluster: 0\n",
      "Point:  1 Cluster: 0\n",
      "Point:  2 Cluster: 0\n",
      "Point:  3 Cluster: 0\n",
      "Point:  4 Cluster: 0\n",
      "Point:  5 Cluster: 0\n",
      "Point:  6 Cluster: 0\n",
      "Point:  7 Cluster: 0\n",
      "\n",
      "Iteration  5\n",
      "Centroid 0 [6.2143, 3.6429]\n",
      "Centroid 1 [12.1, 7.9]\n",
      "Centroid 2 [9.7, 4.45]\n",
      "Point:  0 Cluster: 0\n",
      "Point:  1 Cluster: 0\n",
      "Point:  2 Cluster: 0\n",
      "Point:  3 Cluster: 0\n",
      "Point:  4 Cluster: 0\n",
      "Point:  5 Cluster: 0\n",
      "Point:  6 Cluster: 0\n",
      "Point:  7 Cluster: 0\n",
      "\n",
      "Iteration  6\n",
      "Centroid 0 [6.2143, 3.6429]\n",
      "Centroid 1 [12.1, 7.9]\n",
      "Centroid 2 [9.7, 4.45]\n",
      "Point:  0 Cluster: 0\n",
      "Point:  1 Cluster: 0\n",
      "Point:  2 Cluster: 0\n",
      "Point:  3 Cluster: 0\n",
      "Point:  4 Cluster: 0\n",
      "Point:  5 Cluster: 0\n",
      "Point:  6 Cluster: 0\n",
      "Point:  7 Cluster: 0\n",
      "\n",
      "Iteration  7\n",
      "Centroid 0 [6.2143, 3.6429]\n",
      "Centroid 1 [12.1, 7.9]\n",
      "Centroid 2 [9.7, 4.45]\n",
      "Point:  0 Cluster: 0\n",
      "Point:  1 Cluster: 0\n",
      "Point:  2 Cluster: 0\n",
      "Point:  3 Cluster: 0\n",
      "Point:  4 Cluster: 0\n",
      "Point:  5 Cluster: 0\n",
      "Point:  6 Cluster: 0\n",
      "Point:  7 Cluster: 0\n",
      "\n",
      "Iteration  8\n",
      "Centroid 0 [6.2143, 3.6429]\n",
      "Centroid 1 [12.1, 7.9]\n",
      "Centroid 2 [9.7, 4.45]\n",
      "Point:  0 Cluster: 0\n",
      "Point:  1 Cluster: 0\n",
      "Point:  2 Cluster: 0\n",
      "Point:  3 Cluster: 0\n",
      "Point:  4 Cluster: 0\n",
      "Point:  5 Cluster: 0\n",
      "Point:  6 Cluster: 0\n",
      "Point:  7 Cluster: 0\n",
      "\n",
      "Iteration  9\n",
      "Centroid 0 [6.2143, 3.6429]\n",
      "Centroid 1 [12.1, 7.9]\n",
      "Centroid 2 [9.7, 4.45]\n",
      "Point:  0 Cluster: 0\n",
      "Point:  1 Cluster: 0\n",
      "Point:  2 Cluster: 0\n",
      "Point:  3 Cluster: 0\n",
      "Point:  4 Cluster: 0\n",
      "Point:  5 Cluster: 0\n",
      "Point:  6 Cluster: 0\n",
      "Point:  7 Cluster: 0\n",
      "\n",
      "Iteration  10\n",
      "Centroid 0 [6.2143, 3.6429]\n",
      "Centroid 1 [12.1, 7.9]\n",
      "Centroid 2 [9.7, 4.45]\n",
      "Point:  0 Cluster: 0\n",
      "Point:  1 Cluster: 0\n",
      "Point:  2 Cluster: 0\n",
      "Point:  3 Cluster: 0\n",
      "Point:  4 Cluster: 0\n",
      "Point:  5 Cluster: 0\n",
      "Point:  6 Cluster: 0\n",
      "Point:  7 Cluster: 0\n",
      "\n",
      "Iteration  11\n",
      "Centroid 0 [6.2143, 3.6429]\n",
      "Centroid 1 [12.1, 7.9]\n",
      "Centroid 2 [9.7, 4.45]\n",
      "Point:  0 Cluster: 0\n",
      "Point:  1 Cluster: 0\n",
      "Point:  2 Cluster: 0\n",
      "Point:  3 Cluster: 0\n",
      "Point:  4 Cluster: 0\n",
      "Point:  5 Cluster: 0\n",
      "Point:  6 Cluster: 0\n",
      "Point:  7 Cluster: 0\n",
      "\n",
      "Iteration  12\n",
      "Centroid 0 [6.2143, 3.6429]\n",
      "Centroid 1 [12.1, 7.9]\n",
      "Centroid 2 [9.7, 4.45]\n",
      "Point:  0 Cluster: 0\n",
      "Point:  1 Cluster: 0\n",
      "Point:  2 Cluster: 0\n",
      "Point:  3 Cluster: 0\n",
      "Point:  4 Cluster: 0\n",
      "Point:  5 Cluster: 0\n",
      "Point:  6 Cluster: 0\n",
      "Point:  7 Cluster: 0\n",
      "\n",
      "Iteration  13\n",
      "Centroid 0 [6.2143, 3.6429]\n",
      "Centroid 1 [12.1, 7.9]\n",
      "Centroid 2 [9.7, 4.45]\n",
      "Point:  0 Cluster: 0\n",
      "Point:  1 Cluster: 0\n",
      "Point:  2 Cluster: 0\n",
      "Point:  3 Cluster: 0\n",
      "Point:  4 Cluster: 0\n",
      "Point:  5 Cluster: 0\n",
      "Point:  6 Cluster: 0\n",
      "Point:  7 Cluster: 0\n",
      "\n",
      "Iteration  14\n",
      "Centroid 0 [6.2143, 3.6429]\n",
      "Centroid 1 [12.1, 7.9]\n",
      "Centroid 2 [9.7, 4.45]\n",
      "Point:  0 Cluster: 0\n",
      "Point:  1 Cluster: 0\n",
      "Point:  2 Cluster: 0\n",
      "Point:  3 Cluster: 0\n",
      "Point:  4 Cluster: 0\n",
      "Point:  5 Cluster: 0\n",
      "Point:  6 Cluster: 0\n",
      "Point:  7 Cluster: 0\n",
      "\n",
      "Iteration  15\n",
      "Centroid 0 [6.2143, 3.6429]\n",
      "Centroid 1 [12.1, 7.9]\n",
      "Centroid 2 [9.7, 4.45]\n",
      "Point:  0 Cluster: 0\n",
      "Point:  1 Cluster: 0\n",
      "Point:  2 Cluster: 0\n",
      "Point:  3 Cluster: 0\n",
      "Point:  4 Cluster: 0\n",
      "Point:  5 Cluster: 0\n",
      "Point:  6 Cluster: 0\n",
      "Point:  7 Cluster: 0\n"
     ]
    }
   ],
   "source": [
    "def getSquaredDistance(point1, point2):\n",
    "    return round(((point2[0] - point1[0])**2 + (point2[1] - point1[1])**2),4)\n",
    "\n",
    "def getDistanceFromPoints(centroids, datapoints):\n",
    "    distance_from_cluster = []    \n",
    "    intermediate_result = []\n",
    "    for i in centroids:\n",
    "        for j in datapoints:\n",
    "            intermediate_result.append(getSquaredDistance(i,j))\n",
    "        distance_from_cluster.append(intermediate_result)\n",
    "        intermediate_result = []   \n",
    "    return distance_from_cluster\n",
    "\n",
    "\n",
    "def printResult(centroids, point_to_cluster_mapping):\n",
    "    for i in range(len(centroids)):\n",
    "        print(\"Centroid\",i,centroids[i])\n",
    "    for i in point_to_cluster_mapping:\n",
    "        print(\"Point: \",i,\"Cluster:\",point_to_cluster_mapping[i])\n",
    "\n",
    "def kmeansclustering(centroids, datapoints):\n",
    "    '''\n",
    "    Driver code for K-Means clustering\n",
    "    '''\n",
    "    k = len(centroids)\n",
    "    distance_from_cluster = getDistanceFromPoints(centroids, datapoints)\n",
    "    \n",
    "    \n",
    "   \n",
    "    \n",
    "    point_to_cluster_mapping = {}   \n",
    "    max_valued_cluster = 0\n",
    "    for i in range(len(datapoints)):\n",
    "        point_to_cluster_mapping[i] = None  \n",
    "        for cluster in range(len(centroids)):\n",
    "            if distance_from_cluster[cluster][i] < distance_from_cluster[max_valued_cluster][i]:\n",
    "                max_valued_cluster = cluster\n",
    "        point_to_cluster_mapping[i] = max_valued_cluster\n",
    "    \n",
    "   \n",
    "    cluster_counter = 0       \n",
    "    for i in range(len(centroids)):\n",
    "        for j in point_to_cluster_mapping:\n",
    "            if point_to_cluster_mapping[j] == i:\n",
    "                centroids[i][0] += datapoints[j][0]  \n",
    "                centroids[i][1] += datapoints[j][1]   \n",
    "                cluster_counter += 1\n",
    "        if cluster_counter != 0:\n",
    "            centroids[i][0] = round(centroids[i][0]/cluster_counter,4)\n",
    "            centroids[i][1] = round(centroids[i][1]/cluster_counter,4)\n",
    "            cluster_counter = 0\n",
    "        \n",
    "    printResult(centroids, point_to_cluster_mapping)\n",
    "    return centroids\n",
    "\n",
    "\n",
    "def kmeans_iterator(centroids, datapoints):\n",
    "    old_centroids = centroids\n",
    "    new_centroids = centroids\n",
    "    iteration = 0\n",
    "    \n",
    "    while iteration != 15:\n",
    "        iteration += 1\n",
    "        print(\"\\nIteration \", iteration)\n",
    "        old_centroids = new_centroids\n",
    "        new_centroids = kmeansclustering(new_centroids, datapoints)  \n",
    "\n",
    "\n",
    "centroids = [[6.2,3.2], [6.6,3.7], [6.5,3.0]]\n",
    "datapoints = [[5.9,3.2], [4.6,2.9], [6.2,2.8], [4.7,3.2], [5.5,4.2], [5.0,3.0], [4.9,3.1], [6.7,3.1]]\n",
    "\n",
    "\n",
    "kmeans_iterator(centroids, datapoints)"
   ]
  },
  {
   "cell_type": "code",
   "execution_count": null,
   "metadata": {},
   "outputs": [],
   "source": []
  }
 ],
 "metadata": {
  "kernelspec": {
   "display_name": "Python 3 (ipykernel)",
   "language": "python",
   "name": "python3"
  },
  "language_info": {
   "codemirror_mode": {
    "name": "ipython",
    "version": 3
   },
   "file_extension": ".py",
   "mimetype": "text/x-python",
   "name": "python",
   "nbconvert_exporter": "python",
   "pygments_lexer": "ipython3",
   "version": "3.10.6"
  }
 },
 "nbformat": 4,
 "nbformat_minor": 4
}
