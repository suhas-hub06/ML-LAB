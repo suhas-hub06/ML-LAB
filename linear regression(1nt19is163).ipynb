{
 "cells": [
  {
   "cell_type": "code",
   "execution_count": 10,
   "id": "dd61f90d",
   "metadata": {},
   "outputs": [
    {
     "data": {
      "image/png": "[encoded data removed]",
      "text/plain": [
       "<Figure size 432x288 with 1 Axes>"
      ]
     },
     "metadata": {
      "needs_background": "light"
     },
     "output_type": "display_data"
    },
    {
     "name": "stdout",
     "output_type": "stream",
     "text": [
      "48.0 79.5\n"
     ]
    }
   ],
   "source": [
    "import pandas as pd\n",
    "import matplotlib.pyplot as plt\n",
    "import numpy as np\n",
    "df = pd.read_csv(\"ABC.csv\")\n",
    "df.plot(x=\"X1\", y=\"X2\", style=\"o\")\n",
    "plt.show()\n",
    "\n",
    "x_mean = df[\"X1\"].mean()\n",
    "y_mean = df[\"X2\"].mean()\n",
    "print(x_mean, y_mean)\n"
   ]
  },
  {
   "cell_type": "code",
   "execution_count": 8,
   "id": "d1174895",
   "metadata": {},
   "outputs": [
    {
     "data": {
      "text/plain": [
       "<bound method NDFrame.head of    X1  X2\n",
       "0  36  73\n",
       "1  60  86>"
      ]
     },
     "execution_count": 8,
     "metadata": {},
     "output_type": "execute_result"
    }
   ],
   "source": [
    "df.head"
   ]
  },
  {
   "cell_type": "code",
   "execution_count": 12,
   "id": "4d7547d1",
   "metadata": {},
   "outputs": [
    {
     "data": {
      "text/html": [
       "<div>\n",
       "<style scoped>\n",
       "    .dataframe tbody tr th:only-of-type {\n",
       "        vertical-align: middle;\n",
       "    }\n",
       "\n",
       "    .dataframe tbody tr th {\n",
       "        vertical-align: top;\n",
       "    }\n",
       "\n",
       "    .dataframe thead th {\n",
       "        text-align: right;\n",
       "    }\n",
       "</style>\n",
       "<table border=\"1\" class=\"dataframe\">\n",
       "  <thead>\n",
       "    <tr style=\"text-align: right;\">\n",
       "      <th></th>\n",
       "      <th>X1</th>\n",
       "      <th>X2</th>\n",
       "      <th>x</th>\n",
       "      <th>y</th>\n",
       "      <th>x*y</th>\n",
       "      <th>x^2</th>\n",
       "      <th>y^2</th>\n",
       "    </tr>\n",
       "  </thead>\n",
       "  <tbody>\n",
       "    <tr>\n",
       "      <th>0</th>\n",
       "      <td>36</td>\n",
       "      <td>73</td>\n",
       "      <td>-12.0</td>\n",
       "      <td>-6.5</td>\n",
       "      <td>78.0</td>\n",
       "      <td>144.0</td>\n",
       "      <td>42.25</td>\n",
       "    </tr>\n",
       "    <tr>\n",
       "      <th>1</th>\n",
       "      <td>60</td>\n",
       "      <td>86</td>\n",
       "      <td>12.0</td>\n",
       "      <td>6.5</td>\n",
       "      <td>78.0</td>\n",
       "      <td>144.0</td>\n",
       "      <td>42.25</td>\n",
       "    </tr>\n",
       "  </tbody>\n",
       "</table>\n",
       "</div>"
      ],
      "text/plain": [
       "   X1  X2     x    y   x*y    x^2    y^2\n",
       "0  36  73 -12.0 -6.5  78.0  144.0  42.25\n",
       "1  60  86  12.0  6.5  78.0  144.0  42.25"
      ]
     },
     "execution_count": 12,
     "metadata": {},
     "output_type": "execute_result"
    }
   ],
   "source": [
    "df[\"x\"] = df[\"X1\"] - x_mean\n",
    "df[\"y\"] = df[\"X2\"] - y_mean\n",
    "df[\"x*y\"] = df[\"x\"] * df[\"y\"]\n",
    "df[\"x^2\"] = df[\"x\"]**2\n",
    "df[\"y^2\"] = df[\"y\"]**2\n",
    "df"
   ]
  },
  {
   "cell_type": "code",
   "execution_count": 13,
   "id": "71e3324b",
   "metadata": {},
   "outputs": [
    {
     "name": "stdout",
     "output_type": "stream",
     "text": [
      "156.0 288.0 84.5\n"
     ]
    }
   ],
   "source": [
    "summation_x_y = df[\"x*y\"].sum()\n",
    "summation_x_squared = df[\"x^2\"].sum()\n",
    "summation_y_squared = df[\"y^2\"].sum()\n",
    "print(summation_x_y, summation_x_squared, summation_y_squared)\n",
    "\n",
    "\n"
   ]
  },
  {
   "cell_type": "code",
   "execution_count": 14,
   "id": "63e7cc93",
   "metadata": {},
   "outputs": [
    {
     "data": {
      "text/plain": [
       "1.0"
      ]
     },
     "execution_count": 14,
     "metadata": {},
     "output_type": "execute_result"
    }
   ],
   "source": [
    "correlation = summation_x_y / (summation_x_squared * summation_y_squared)**0.5\n",
    "correlation"
   ]
  },
  {
   "cell_type": "code",
   "execution_count": 15,
   "id": "0e82bf05",
   "metadata": {},
   "outputs": [],
   "source": [
    "def getMean(numbers):\n",
    "    if len(numbers) == 0:\n",
    "        return None\n",
    "    else:\n",
    "        current_sum = 0\n",
    "        for i in numbers:\n",
    "            current_sum += i\n",
    "            current_avg = current_sum/len(numbers)\n",
    "        return current_avg"
   ]
  },
  {
   "cell_type": "code",
   "execution_count": 18,
   "id": "6b0673b2",
   "metadata": {},
   "outputs": [],
   "source": [
    "def getStandardDeviation(numbers):\n",
    "    if len(numbers) == 0:\n",
    "        return 0\n",
    "    else:\n",
    "        mean = getMean(numbers)\n",
    "        std_deviation = 0\n",
    "        for i in numbers:\n",
    "            std_deviation += (i - mean)**2\n",
    "        return (std_deviation/len(numbers))**0.5"
   ]
  },
  {
   "cell_type": "code",
   "execution_count": 19,
   "id": "f260e787",
   "metadata": {},
   "outputs": [
    {
     "name": "stdout",
     "output_type": "stream",
     "text": [
      "12.0 6.5\n"
     ]
    }
   ],
   "source": [
    "std_deviation_x = getStandardDeviation(df[\"x\"].tolist())\n",
    "std_deviation_y = getStandardDeviation(df[\"y\"].tolist())\n",
    "print(std_deviation_x, std_deviation_y)"
   ]
  },
  {
   "cell_type": "code",
   "execution_count": 20,
   "id": "0e64575b",
   "metadata": {},
   "outputs": [
    {
     "data": {
      "text/plain": [
       "0.5416666666666666"
      ]
     },
     "execution_count": 20,
     "metadata": {},
     "output_type": "execute_result"
    }
   ],
   "source": [
    "m = correlation * (std_deviation_y / std_deviation_x)\n",
    "m"
   ]
  },
  {
   "cell_type": "code",
   "execution_count": 22,
   "id": "19fd2022",
   "metadata": {},
   "outputs": [
    {
     "data": {
      "text/plain": [
       "53.5"
      ]
     },
     "execution_count": 22,
     "metadata": {},
     "output_type": "execute_result"
    }
   ],
   "source": [
    "c = df[\"X2\"].mean() - m * df[\"X1\"].mean()\n",
    "c"
   ]
  },
  {
   "cell_type": "code",
   "execution_count": 23,
   "id": "27032532",
   "metadata": {},
   "outputs": [
    {
     "data": {
      "text/html": [
       "<div>\n",
       "<style scoped>\n",
       "    .dataframe tbody tr th:only-of-type {\n",
       "        vertical-align: middle;\n",
       "    }\n",
       "\n",
       "    .dataframe tbody tr th {\n",
       "        vertical-align: top;\n",
       "    }\n",
       "\n",
       "    .dataframe thead th {\n",
       "        text-align: right;\n",
       "    }\n",
       "</style>\n",
       "<table border=\"1\" class=\"dataframe\">\n",
       "  <thead>\n",
       "    <tr style=\"text-align: right;\">\n",
       "      <th></th>\n",
       "      <th>X1</th>\n",
       "      <th>X2</th>\n",
       "      <th>x</th>\n",
       "      <th>y</th>\n",
       "      <th>x*y</th>\n",
       "      <th>x^2</th>\n",
       "      <th>y^2</th>\n",
       "      <th>y_prediction</th>\n",
       "    </tr>\n",
       "  </thead>\n",
       "  <tbody>\n",
       "    <tr>\n",
       "      <th>0</th>\n",
       "      <td>36</td>\n",
       "      <td>73</td>\n",
       "      <td>-12.0</td>\n",
       "      <td>-6.5</td>\n",
       "      <td>78.0</td>\n",
       "      <td>144.0</td>\n",
       "      <td>42.25</td>\n",
       "      <td>73.0</td>\n",
       "    </tr>\n",
       "    <tr>\n",
       "      <th>1</th>\n",
       "      <td>60</td>\n",
       "      <td>86</td>\n",
       "      <td>12.0</td>\n",
       "      <td>6.5</td>\n",
       "      <td>78.0</td>\n",
       "      <td>144.0</td>\n",
       "      <td>42.25</td>\n",
       "      <td>86.0</td>\n",
       "    </tr>\n",
       "  </tbody>\n",
       "</table>\n",
       "</div>"
      ],
      "text/plain": [
       "   X1  X2     x    y   x*y    x^2    y^2  y_prediction\n",
       "0  36  73 -12.0 -6.5  78.0  144.0  42.25          73.0\n",
       "1  60  86  12.0  6.5  78.0  144.0  42.25          86.0"
      ]
     },
     "execution_count": 23,
     "metadata": {},
     "output_type": "execute_result"
    }
   ],
   "source": [
    "df[\"y_prediction\"] = m * df[\"X1\"] + c\n",
    "df"
   ]
  },
  {
   "cell_type": "code",
   "execution_count": 25,
   "id": "7371ce62",
   "metadata": {},
   "outputs": [
    {
     "data": {
      "image/png": "[encoded data removed]",
      "text/plain": [
       "<Figure size 432x288 with 1 Axes>"
      ]
     },
     "metadata": {
      "needs_background": "light"
     },
     "output_type": "display_data"
    }
   ],
   "source": [
    "plot1 = plt.scatter(df[\"X1\"], df[\"X2\"])\n",
    "plot2 = plt.scatter(df[\"X1\"], df[\"y_prediction\"])\n",
    "plt.show()"
   ]
  },
  {
   "cell_type": "code",
   "execution_count": null,
   "id": "41b7ede7",
   "metadata": {},
   "outputs": [],
   "source": []
  }
 ],
 "metadata": {
  "kernelspec": {
   "display_name": "Python 3 (ipykernel)",
   "language": "python",
   "name": "python3"
  },
  "language_info": {
   "codemirror_mode": {
    "name": "ipython",
    "version": 3
   },
   "file_extension": ".py",
   "mimetype": "text/x-python",
   "name": "python",
   "nbconvert_exporter": "python",
   "pygments_lexer": "ipython3",
   "version": "3.10.6"
  }
 },
 "nbformat": 4,
 "nbformat_minor": 5
}
